{
 "cells": [
  {
   "cell_type": "code",
   "execution_count": 1,
   "id": "f0a7ede3",
   "metadata": {},
   "outputs": [],
   "source": [
    "import json\n",
    "import pandas as pd\n",
    "import glob\n",
    "import geoip2.database\n",
    "import ipaddress"
   ]
  },
  {
   "cell_type": "code",
   "execution_count": 2,
   "id": "8394cb5f",
   "metadata": {},
   "outputs": [],
   "source": [
    "# Function to read and process log files\n",
    "def process_log_file(file_path):\n",
    "    logs = []\n",
    "    with open(file_path, 'r') as file:\n",
    "        for line in file:\n",
    "            try:\n",
    "                log = json.loads(line)\n",
    "                logs.append(log)\n",
    "            except json.JSONDecodeError as e:\n",
    "                print(f\"JSONDecodeError: {e}. Skipping line: {line.strip()}\")\n",
    "\n",
    "    return pd.DataFrame(logs)\n"
   ]
  },
  {
   "cell_type": "code",
   "execution_count": 3,
   "id": "f3249307",
   "metadata": {},
   "outputs": [],
   "source": [
    "# Function to get the country from an IP address\n",
    "def get_country(ip):\n",
    "    try:\n",
    "        if ipaddress.ip_address(ip).is_private:\n",
    "            return \"Private\"\n",
    "        response = reader.city(ip)\n",
    "        if response is not None:\n",
    "            return response.country.names['en']\n",
    "    except Exception as e: \n",
    "        print(f\"Error: The address {ip} is not in the database.\")\n",
    "    return \"Unknown\"\n"
   ]
  },
  {
   "cell_type": "code",
   "execution_count": 4,
   "id": "9f0c8f2f",
   "metadata": {},
   "outputs": [],
   "source": [
    "# Get all log file names\n",
    "log_files = glob.glob('cowrie/cowrie.json.*')"
   ]
  },
  {
   "cell_type": "code",
   "execution_count": 5,
   "id": "6215d817",
   "metadata": {},
   "outputs": [],
   "source": [
    "all_logs = []"
   ]
  },
  {
   "cell_type": "code",
   "execution_count": 6,
   "id": "0ceb9a4b",
   "metadata": {},
   "outputs": [],
   "source": [
    "# Process all log files and append the resulting dataframes\n",
    "for log_file in log_files:\n",
    "    df = process_log_file(log_file)\n",
    "    all_logs.append(df)"
   ]
  },
  {
   "cell_type": "code",
   "execution_count": 7,
   "id": "1897da9e",
   "metadata": {},
   "outputs": [],
   "source": [
    "# Combine all dataframes into a single dataframe\n",
    "df = pd.concat(all_logs, ignore_index=True)"
   ]
  },
  {
   "cell_type": "code",
   "execution_count": 8,
   "id": "2934d542",
   "metadata": {},
   "outputs": [],
   "source": [
    "# Filter authentication logs and command logs\n",
    "auth_logs = df[df['eventid'].isin(['cowrie.login.success', 'cowrie.login.failed'])]\n",
    "cmd_logs = df[df['eventid'] == 'cowrie.command.input']"
   ]
  },
  {
   "cell_type": "code",
   "execution_count": 9,
   "id": "c54a5d3e",
   "metadata": {},
   "outputs": [],
   "source": [
    "# Clean up authentication logs\n",
    "auth_logs = auth_logs.assign(src_ip=auth_logs['src_ip'].str.strip(),\n",
    "                             username=auth_logs['username'].str.strip(),\n",
    "                             password=auth_logs['password'].str.strip(),\n",
    "                            )"
   ]
  },
  {
   "cell_type": "code",
   "execution_count": 10,
   "id": "22c7147f",
   "metadata": {},
   "outputs": [],
   "source": [
    "# Clean up command logs\n",
    "cmd_logs = cmd_logs.assign(src_ip=cmd_logs['src_ip'].str.strip(),\n",
    "                           input=cmd_logs['input'].str.strip())"
   ]
  },
  {
   "cell_type": "code",
   "execution_count": 11,
   "id": "2b998264",
   "metadata": {},
   "outputs": [],
   "source": [
    "# Merge authentication logs and command logs\n",
    "merged_logs = pd.merge(auth_logs, cmd_logs, on=['src_ip', 'session'], how='left', suffixes=('_auth', '_cmd'))\n"
   ]
  },
  {
   "cell_type": "code",
   "execution_count": 12,
   "id": "ee703ed4",
   "metadata": {},
   "outputs": [],
   "source": [
    "# Function to label attacks as severe or non-severe\n",
    "def label_attack(row):\n",
    "    if row['eventid_auth'] == 'cowrie.login.success' and pd.notna(row['input_cmd']):\n",
    "        executed_commands = row['input_cmd'].split()\n",
    "        if len(executed_commands) >= 1:\n",
    "            return 1  # Severe attack\n",
    "    return 0  # Non-severe attack"
   ]
  },
  {
   "cell_type": "code",
   "execution_count": 13,
   "id": "a18a8133",
   "metadata": {},
   "outputs": [],
   "source": [
    "# Apply the attack labeling function\n",
    "merged_logs['severity'] = merged_logs.apply(label_attack, axis=1)"
   ]
  },
  {
   "cell_type": "code",
   "execution_count": 14,
   "id": "dc49c0d3",
   "metadata": {},
   "outputs": [],
   "source": [
    "# Select relevant columns for the machine learning dataset\n",
    "ml_dataset = merged_logs[['src_ip', 'username_auth', 'password_auth', 'input_cmd','timestamp_auth', 'severity']]"
   ]
  },
  {
   "cell_type": "code",
   "execution_count": 15,
   "id": "1345bdee",
   "metadata": {},
   "outputs": [],
   "source": [
    "# Remove duplicate rows and shuffle the dataset\n",
    "ml_dataset = ml_dataset.drop_duplicates()\n",
    "ml_dataset = ml_dataset.sample(frac=1).reset_index(drop=True)"
   ]
  },
  {
   "cell_type": "code",
   "execution_count": 16,
   "id": "313d1d18",
   "metadata": {},
   "outputs": [],
   "source": [
    "# Initialize the geoip2 reader\n",
    "reader = geoip2.database.Reader('GeoLite2-City.mmdb')  # Replace this with the path to your .mmdb file\n"
   ]
  },
  {
   "cell_type": "code",
   "execution_count": 17,
   "id": "51d1d28f",
   "metadata": {},
   "outputs": [],
   "source": [
    "# Map IP addresses to countries\n",
    "ml_dataset['country'] = ml_dataset['src_ip'].apply(get_country)\n"
   ]
  },
  {
   "cell_type": "code",
   "execution_count": 18,
   "id": "8941050e",
   "metadata": {},
   "outputs": [],
   "source": [
    "# Close the geoip2 reader\n",
    "reader.close()"
   ]
  },
  {
   "cell_type": "code",
   "execution_count": 19,
   "id": "90526bc4",
   "metadata": {},
   "outputs": [],
   "source": [
    "# Save the dataset to a CSV file\n",
    "ml_dataset.to_csv('cowrie_honeypot_ml_dataset2.csv', index=False)"
   ]
  },
  {
   "cell_type": "code",
   "execution_count": 20,
   "id": "b04b0f40",
   "metadata": {},
   "outputs": [
    {
     "name": "stdout",
     "output_type": "stream",
     "text": [
      "                src_ip username_auth password_auth  \\\n",
      "0         223.13.31.85        666666        666666   \n",
      "1         218.92.0.192          root    Voiture1@3   \n",
      "2         223.13.31.85         admin  7ujMko0admin   \n",
      "3       123.185.32.183          root       cat1029   \n",
      "4      222.246.126.216          root          ikwb   \n",
      "...                ...           ...           ...   \n",
      "17228     218.92.0.192          root       dreamer   \n",
      "17229    152.37.72.238          root          1234   \n",
      "17230     60.53.206.52          tech          tech   \n",
      "17231   110.182.96.227          root        Zte521   \n",
      "17232   103.154.65.189       aaliyah         barby   \n",
      "\n",
      "                                               input_cmd  \\\n",
      "0                                                    NaN   \n",
      "1                                                    NaN   \n",
      "2      cd /dev/shm; cat .s || cp /bin/echo .s; /bin/b...   \n",
      "3                                            rm .s; exit   \n",
      "4                                     /bin/busybox UPAXF   \n",
      "...                                                  ...   \n",
      "17228                                                NaN   \n",
      "17229                                                NaN   \n",
      "17230  dd bs=52 count=1 if=.s || cat .s || while read...   \n",
      "17231                                                NaN   \n",
      "17232                                                NaN   \n",
      "\n",
      "                    timestamp_auth  severity         country  \n",
      "0      2023-04-20T03:28:18.945818Z         0           China  \n",
      "1      2023-04-20T09:00:49.638539Z         0           China  \n",
      "2      2023-04-20T04:45:12.762352Z         0           China  \n",
      "3      2023-04-19T06:53:59.088208Z         0           China  \n",
      "4      2023-04-20T05:47:23.519382Z         0           China  \n",
      "...                            ...       ...             ...  \n",
      "17228  2023-04-20T11:16:23.352998Z         0           China  \n",
      "17229  2023-04-20T21:23:07.436117Z         0  United Kingdom  \n",
      "17230  2023-04-19T23:51:27.979648Z         0        Malaysia  \n",
      "17231  2023-04-19T02:26:42.125229Z         0           China  \n",
      "17232  2023-04-18T15:26:36.095901Z         0        Pakistan  \n",
      "\n",
      "[17233 rows x 7 columns]\n"
     ]
    }
   ],
   "source": [
    "# Print the resulting dataset\n",
    "print(ml_dataset)"
   ]
  },
  {
   "cell_type": "code",
   "execution_count": null,
   "id": "d22eeb4a",
   "metadata": {},
   "outputs": [],
   "source": []
  }
 ],
 "metadata": {
  "kernelspec": {
   "display_name": "Python 3 (ipykernel)",
   "language": "python",
   "name": "python3"
  },
  "language_info": {
   "codemirror_mode": {
    "name": "ipython",
    "version": 3
   },
   "file_extension": ".py",
   "mimetype": "text/x-python",
   "name": "python",
   "nbconvert_exporter": "python",
   "pygments_lexer": "ipython3",
   "version": "3.9.13"
  }
 },
 "nbformat": 4,
 "nbformat_minor": 5
}
