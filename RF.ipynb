{
 "cells": [
  {
   "cell_type": "code",
   "execution_count": 1,
   "id": "c4185be5",
   "metadata": {},
   "outputs": [],
   "source": [
    "import numpy as np\n",
    "import pandas as pd\n",
    "import seaborn as sns\n",
    "import matplotlib.pyplot as plt\n",
    "from sklearn.model_selection import train_test_split, RandomizedSearchCV, cross_val_score\n",
    "from sklearn.preprocessing import StandardScaler, OneHotEncoder\n",
    "from sklearn.ensemble import RandomForestClassifier\n",
    "from sklearn.metrics import (accuracy_score, recall_score, f1_score, classification_report,\n",
    "                             confusion_matrix, roc_curve, auc, roc_auc_score,precision_score)\n",
    "from sklearn.compose import ColumnTransformer\n",
    "from sklearn.pipeline import Pipeline\n",
    "from category_encoders import TargetEncoder\n",
    "import scikitplot as skplt\n",
    "import warnings\n",
    "from scipy import stats\n",
    "import time\n"
   ]
  },
  {
   "cell_type": "code",
   "execution_count": 2,
   "id": "973ac3d1",
   "metadata": {},
   "outputs": [],
   "source": [
    "# Load your dataset\n",
    "data = pd.read_csv('cowrie_honeypot_ml_dataset.csv')\n"
   ]
  },
  {
   "cell_type": "code",
   "execution_count": 3,
   "id": "b0c9a92a",
   "metadata": {},
   "outputs": [],
   "source": [
    "# # Fill empty fields with 0 \n",
    "data['input_cmd'] = data['input_cmd'].fillna('N/A')\n",
    "data['username_auth'] = data['username_auth'].fillna('N/A')\n",
    "data['password_auth'] = data['password_auth'].fillna('N/A')"
   ]
  },
  {
   "cell_type": "code",
   "execution_count": 5,
   "id": "e94f773b",
   "metadata": {},
   "outputs": [
    {
     "name": "stdout",
     "output_type": "stream",
     "text": [
      "Missing values in the dataset:\n",
      "src_ip            0\n",
      "username_auth     0\n",
      "password_auth     0\n",
      "input_cmd         0\n",
      "timestamp_auth    0\n",
      "severity          0\n",
      "country           0\n",
      "dtype: int64\n"
     ]
    }
   ],
   "source": [
    "print(\"Missing values in the dataset:\")\n",
    "print(data.isnull().sum())"
   ]
  },
  {
   "cell_type": "code",
   "execution_count": 6,
   "id": "fb0ffef9",
   "metadata": {},
   "outputs": [],
   "source": [
    "# Split the data into training and testing sets\n",
    "#X = data[['hour','day_of_week','month','input_cmd', 'country', 'username_auth', 'password_auth']]\n",
    "X = data[['input_cmd', 'country', 'username_auth', 'password_auth']]\n",
    "y = data['severity'] \n"
   ]
  },
  {
   "cell_type": "code",
   "execution_count": 7,
   "id": "9d236d4f",
   "metadata": {},
   "outputs": [
    {
     "data": {
      "text/html": [
       "<div>\n",
       "<style scoped>\n",
       "    .dataframe tbody tr th:only-of-type {\n",
       "        vertical-align: middle;\n",
       "    }\n",
       "\n",
       "    .dataframe tbody tr th {\n",
       "        vertical-align: top;\n",
       "    }\n",
       "\n",
       "    .dataframe thead th {\n",
       "        text-align: right;\n",
       "    }\n",
       "</style>\n",
       "<table border=\"1\" class=\"dataframe\">\n",
       "  <thead>\n",
       "    <tr style=\"text-align: right;\">\n",
       "      <th></th>\n",
       "      <th>src_ip</th>\n",
       "      <th>username_auth</th>\n",
       "      <th>password_auth</th>\n",
       "      <th>input_cmd</th>\n",
       "      <th>timestamp_auth</th>\n",
       "      <th>severity</th>\n",
       "      <th>country</th>\n",
       "    </tr>\n",
       "  </thead>\n",
       "  <tbody>\n",
       "    <tr>\n",
       "      <th>0</th>\n",
       "      <td>82.66.220.36</td>\n",
       "      <td>root</td>\n",
       "      <td>261081</td>\n",
       "      <td>echo -e \"\\x6F\\x6B\"</td>\n",
       "      <td>2023-04-14T18:50:39.577367Z</td>\n",
       "      <td>1</td>\n",
       "      <td>France</td>\n",
       "    </tr>\n",
       "    <tr>\n",
       "      <th>1</th>\n",
       "      <td>91.200.114.76</td>\n",
       "      <td>guest</td>\n",
       "      <td>guest</td>\n",
       "      <td>cd /dev/shm; cat .s || cp /bin/echo .s; /bin/b...</td>\n",
       "      <td>2023-04-19T00:03:31.332800Z</td>\n",
       "      <td>0</td>\n",
       "      <td>Ukraine</td>\n",
       "    </tr>\n",
       "    <tr>\n",
       "      <th>2</th>\n",
       "      <td>223.13.70.41</td>\n",
       "      <td>root</td>\n",
       "      <td>root</td>\n",
       "      <td>enable</td>\n",
       "      <td>2023-04-15T21:58:50.872869Z</td>\n",
       "      <td>1</td>\n",
       "      <td>China</td>\n",
       "    </tr>\n",
       "    <tr>\n",
       "      <th>3</th>\n",
       "      <td>82.66.220.36</td>\n",
       "      <td>root</td>\n",
       "      <td>19840906</td>\n",
       "      <td>echo -e \"\\x6F\\x6B\"</td>\n",
       "      <td>2023-04-14T19:46:38.628513Z</td>\n",
       "      <td>1</td>\n",
       "      <td>France</td>\n",
       "    </tr>\n",
       "    <tr>\n",
       "      <th>4</th>\n",
       "      <td>82.66.220.36</td>\n",
       "      <td>root</td>\n",
       "      <td>ch0c0lat</td>\n",
       "      <td>echo -e \"\\x6F\\x6B\"</td>\n",
       "      <td>2023-04-14T18:53:25.338140Z</td>\n",
       "      <td>1</td>\n",
       "      <td>France</td>\n",
       "    </tr>\n",
       "    <tr>\n",
       "      <th>...</th>\n",
       "      <td>...</td>\n",
       "      <td>...</td>\n",
       "      <td>...</td>\n",
       "      <td>...</td>\n",
       "      <td>...</td>\n",
       "      <td>...</td>\n",
       "      <td>...</td>\n",
       "    </tr>\n",
       "    <tr>\n",
       "      <th>61668</th>\n",
       "      <td>82.66.220.36</td>\n",
       "      <td>root</td>\n",
       "      <td>19850823</td>\n",
       "      <td>echo -e \"\\x6F\\x6B\"</td>\n",
       "      <td>2023-04-14T19:44:01.438913Z</td>\n",
       "      <td>1</td>\n",
       "      <td>France</td>\n",
       "    </tr>\n",
       "    <tr>\n",
       "      <th>61669</th>\n",
       "      <td>82.66.220.36</td>\n",
       "      <td>root</td>\n",
       "      <td>bubba</td>\n",
       "      <td>echo -e \"\\x6F\\x6B\"</td>\n",
       "      <td>2023-04-14T18:54:17.714332Z</td>\n",
       "      <td>1</td>\n",
       "      <td>France</td>\n",
       "    </tr>\n",
       "    <tr>\n",
       "      <th>61670</th>\n",
       "      <td>82.66.220.36</td>\n",
       "      <td>root</td>\n",
       "      <td>thing</td>\n",
       "      <td>echo -e \"\\x6F\\x6B\"</td>\n",
       "      <td>2023-04-14T19:08:38.148214Z</td>\n",
       "      <td>1</td>\n",
       "      <td>France</td>\n",
       "    </tr>\n",
       "    <tr>\n",
       "      <th>61671</th>\n",
       "      <td>180.119.198.119</td>\n",
       "      <td>admin</td>\n",
       "      <td>54321</td>\n",
       "      <td>enable</td>\n",
       "      <td>2023-04-16T16:46:20.585853Z</td>\n",
       "      <td>0</td>\n",
       "      <td>China</td>\n",
       "    </tr>\n",
       "    <tr>\n",
       "      <th>61672</th>\n",
       "      <td>192.166.244.63</td>\n",
       "      <td>rott</td>\n",
       "      <td>yes</td>\n",
       "      <td>cd ..</td>\n",
       "      <td>2023-04-07T19:57:56.162838Z</td>\n",
       "      <td>0</td>\n",
       "      <td>Hong Kong</td>\n",
       "    </tr>\n",
       "  </tbody>\n",
       "</table>\n",
       "<p>61673 rows × 7 columns</p>\n",
       "</div>"
      ],
      "text/plain": [
       "                src_ip username_auth password_auth  \\\n",
       "0         82.66.220.36          root        261081   \n",
       "1        91.200.114.76         guest         guest   \n",
       "2         223.13.70.41          root          root   \n",
       "3         82.66.220.36          root      19840906   \n",
       "4         82.66.220.36          root      ch0c0lat   \n",
       "...                ...           ...           ...   \n",
       "61668     82.66.220.36          root      19850823   \n",
       "61669     82.66.220.36          root         bubba   \n",
       "61670     82.66.220.36          root         thing   \n",
       "61671  180.119.198.119         admin         54321   \n",
       "61672   192.166.244.63          rott           yes   \n",
       "\n",
       "                                               input_cmd  \\\n",
       "0                                     echo -e \"\\x6F\\x6B\"   \n",
       "1      cd /dev/shm; cat .s || cp /bin/echo .s; /bin/b...   \n",
       "2                                                 enable   \n",
       "3                                     echo -e \"\\x6F\\x6B\"   \n",
       "4                                     echo -e \"\\x6F\\x6B\"   \n",
       "...                                                  ...   \n",
       "61668                                 echo -e \"\\x6F\\x6B\"   \n",
       "61669                                 echo -e \"\\x6F\\x6B\"   \n",
       "61670                                 echo -e \"\\x6F\\x6B\"   \n",
       "61671                                             enable   \n",
       "61672                                              cd ..   \n",
       "\n",
       "                    timestamp_auth  severity    country  \n",
       "0      2023-04-14T18:50:39.577367Z         1     France  \n",
       "1      2023-04-19T00:03:31.332800Z         0    Ukraine  \n",
       "2      2023-04-15T21:58:50.872869Z         1      China  \n",
       "3      2023-04-14T19:46:38.628513Z         1     France  \n",
       "4      2023-04-14T18:53:25.338140Z         1     France  \n",
       "...                            ...       ...        ...  \n",
       "61668  2023-04-14T19:44:01.438913Z         1     France  \n",
       "61669  2023-04-14T18:54:17.714332Z         1     France  \n",
       "61670  2023-04-14T19:08:38.148214Z         1     France  \n",
       "61671  2023-04-16T16:46:20.585853Z         0      China  \n",
       "61672  2023-04-07T19:57:56.162838Z         0  Hong Kong  \n",
       "\n",
       "[61673 rows x 7 columns]"
      ]
     },
     "execution_count": 7,
     "metadata": {},
     "output_type": "execute_result"
    }
   ],
   "source": [
    "data"
   ]
  },
  {
   "cell_type": "code",
   "execution_count": 8,
   "id": "a3fb90db",
   "metadata": {},
   "outputs": [
    {
     "name": "stdout",
     "output_type": "stream",
     "text": [
      "Infinite values in the dataset:\n",
      "src_ip            0\n",
      "username_auth     0\n",
      "password_auth     0\n",
      "input_cmd         0\n",
      "timestamp_auth    0\n",
      "severity          0\n",
      "country           0\n",
      "dtype: int64\n"
     ]
    }
   ],
   "source": [
    "# Check for infinite values in the dataset\n",
    "print(\"Infinite values in the dataset:\")\n",
    "print(data.applymap(lambda x: x in [np.inf, -np.inf]).sum())"
   ]
  },
  {
   "cell_type": "code",
   "execution_count": 9,
   "id": "1599ab1b",
   "metadata": {},
   "outputs": [],
   "source": [
    "# Split the data into training and testing sets\n",
    "X_train, X_test, y_train, y_test = train_test_split(X, y, test_size=0.25, random_state=42)\n"
   ]
  },
  {
   "cell_type": "code",
   "execution_count": 10,
   "id": "bab8c70e",
   "metadata": {},
   "outputs": [],
   "source": [
    "# Define the hyperparameter search space for \n",
    "preprocessor = ColumnTransformer(transformers=[\n",
    "    ('input_cmd', TargetEncoder(), ['input_cmd']),\n",
    "    ('country', OneHotEncoder(handle_unknown='ignore'), ['country']),\n",
    "    ('username_auth', TargetEncoder(), ['username_auth']),\n",
    "    ('password_auth', TargetEncoder(), ['password_auth'])\n",
    "])\n"
   ]
  },
  {
   "cell_type": "code",
   "execution_count": 11,
   "id": "51aa03bf",
   "metadata": {},
   "outputs": [],
   "source": [
    "## Create Rand object\n",
    "rf_model = RandomForestClassifier()\n",
    "pipeline = Pipeline(steps=[('preprocessor', preprocessor), ('classifier', rf_model)])\n"
   ]
  },
  {
   "cell_type": "code",
   "execution_count": 12,
   "id": "16665d00",
   "metadata": {},
   "outputs": [],
   "source": [
    "# Define the hyperparameter search space for GridSearchCV\n",
    "\n",
    "param_dist = {\n",
    "    'classifier__n_estimators': [50, 100, 200],\n",
    "    'classifier__max_depth': [None, 10, 20, 30],\n",
    "    'classifier__min_samples_split': [2, 5, 10],\n",
    "    'classifier__min_samples_leaf': [1, 2, 4],\n",
    "    'classifier__bootstrap': [True, False]\n",
    "}"
   ]
  },
  {
   "cell_type": "code",
   "execution_count": 13,
   "id": "408d1af1",
   "metadata": {},
   "outputs": [],
   "source": [
    "# Create the RandomSearchCV object\n",
    "\n",
    "rand_search = RandomizedSearchCV(pipeline, param_dist, scoring='accuracy', cv=5, verbose=1, n_jobs=-1, n_iter=20)\n"
   ]
  },
  {
   "cell_type": "code",
   "execution_count": 14,
   "id": "5f4f0b9b",
   "metadata": {},
   "outputs": [],
   "source": [
    "#Start Training Timer \n",
    "\n",
    "start_time = time.time()\n"
   ]
  },
  {
   "cell_type": "code",
   "execution_count": 15,
   "id": "dc8f3c5b",
   "metadata": {},
   "outputs": [
    {
     "name": "stdout",
     "output_type": "stream",
     "text": [
      "Fitting 5 folds for each of 20 candidates, totalling 100 fits\n"
     ]
    },
    {
     "data": {
      "text/plain": [
       "RandomizedSearchCV(cv=5,\n",
       "                   estimator=Pipeline(steps=[('preprocessor',\n",
       "                                              ColumnTransformer(transformers=[('input_cmd',\n",
       "                                                                               TargetEncoder(),\n",
       "                                                                               ['input_cmd']),\n",
       "                                                                              ('country',\n",
       "                                                                               OneHotEncoder(handle_unknown='ignore'),\n",
       "                                                                               ['country']),\n",
       "                                                                              ('username_auth',\n",
       "                                                                               TargetEncoder(),\n",
       "                                                                               ['username_auth']),\n",
       "                                                                              ('password_auth',\n",
       "                                                                               TargetEncoder(),\n",
       "                                                                               ['password_auth'])])),\n",
       "                                             ('classifier',\n",
       "                                              RandomForestClassifier())]),\n",
       "                   n_iter=20, n_jobs=-1,\n",
       "                   param_distributions={'classifier__bootstrap': [True, False],\n",
       "                                        'classifier__max_depth': [None, 10, 20,\n",
       "                                                                  30],\n",
       "                                        'classifier__min_samples_leaf': [1, 2,\n",
       "                                                                         4],\n",
       "                                        'classifier__min_samples_split': [2, 5,\n",
       "                                                                          10],\n",
       "                                        'classifier__n_estimators': [50, 100,\n",
       "                                                                     200]},\n",
       "                   scoring='accuracy', verbose=1)"
      ]
     },
     "execution_count": 15,
     "metadata": {},
     "output_type": "execute_result"
    }
   ],
   "source": [
    "# Train the RF model using the training data and find the best hyperparameters\n",
    "\n",
    "rand_search.fit(X_train, y_train)\n"
   ]
  },
  {
   "cell_type": "code",
   "execution_count": 16,
   "id": "a6dcfecb",
   "metadata": {},
   "outputs": [],
   "source": [
    "#End Training Timer\n",
    "\n",
    "end_time = time.time()\n",
    "elapsed_time = end_time - start_time"
   ]
  },
  {
   "cell_type": "code",
   "execution_count": 17,
   "id": "9961a3db",
   "metadata": {},
   "outputs": [],
   "source": [
    "#Format Training time in Hours \n",
    "\n",
    "hours, rem = divmod(elapsed_time, 3600)\n",
    "minutes, seconds = divmod(rem, 60)\n"
   ]
  },
  {
   "cell_type": "code",
   "execution_count": 18,
   "id": "3faf7770",
   "metadata": {},
   "outputs": [
    {
     "name": "stdout",
     "output_type": "stream",
     "text": [
      "Time taken for training: 00 hours 03 minutes 37.18 seconds\n"
     ]
    }
   ],
   "source": [
    "# Print the best hyperparameters found\n",
    "\n",
    "print(\"Time taken for training: {:0>2} hours {:0>2} minutes {:.2f} seconds\".format(int(hours), int(minutes), seconds))\n"
   ]
  },
  {
   "cell_type": "code",
   "execution_count": 19,
   "id": "cb5a726d",
   "metadata": {},
   "outputs": [
    {
     "name": "stdout",
     "output_type": "stream",
     "text": [
      "Best Hyperparameters:\n",
      "{'classifier__n_estimators': 50, 'classifier__min_samples_split': 10, 'classifier__min_samples_leaf': 1, 'classifier__max_depth': None, 'classifier__bootstrap': False}\n"
     ]
    }
   ],
   "source": [
    "# Print the best hyperparameters found\n",
    "\n",
    "print(\"Best Hyperparameters:\")\n",
    "print(rand_search.best_params_)\n"
   ]
  },
  {
   "cell_type": "code",
   "execution_count": 20,
   "id": "c7211e44",
   "metadata": {},
   "outputs": [],
   "source": [
    "# Predict the test data using the best model\n",
    "\n",
    "y_pred = rand_search.predict(X_test)\n"
   ]
  },
  {
   "cell_type": "code",
   "execution_count": 21,
   "id": "8ae5179d",
   "metadata": {},
   "outputs": [],
   "source": [
    "# Evaluate the model\n",
    "accuracy = accuracy_score(y_test, y_pred)\n",
    "recall = recall_score(y_test, y_pred, average='weighted')\n",
    "f1 = f1_score(y_test, y_pred, average='weighted')\n",
    "precision = precision_score(y_test, y_pred, average='weighted')"
   ]
  },
  {
   "cell_type": "code",
   "execution_count": 22,
   "id": "b70f215d",
   "metadata": {},
   "outputs": [
    {
     "name": "stdout",
     "output_type": "stream",
     "text": [
      "[[9355  212]\n",
      " [ 679 5173]]\n",
      "              precision    recall  f1-score   support\n",
      "\n",
      "           0       0.93      0.98      0.95      9567\n",
      "           1       0.96      0.88      0.92      5852\n",
      "\n",
      "    accuracy                           0.94     15419\n",
      "   macro avg       0.95      0.93      0.94     15419\n",
      "weighted avg       0.94      0.94      0.94     15419\n",
      "\n",
      "Accuracy: 0.9422141513716843\n",
      "F1 Score: 0.9207083741212067\n",
      "Recall: 0.8839712918660287\n",
      "Precision: 0.9606313834726091\n"
     ]
    }
   ],
   "source": [
    "print(confusion_matrix(y_test, y_pred))\n",
    "print(classification_report(y_test, y_pred))\n",
    "print(\"Accuracy:\", accuracy_score(y_test, y_pred))\n",
    "print(\"F1 Score:\", f1_score(y_test, y_pred))\n",
    "print(\"Recall:\", recall_score(y_test, y_pred))\n",
    "print(\"Precision:\", precision_score(y_test, y_pred))"
   ]
  },
  {
   "cell_type": "code",
   "execution_count": 24,
   "id": "98498eaa",
   "metadata": {},
   "outputs": [],
   "source": [
    "# Confusion matrix\n",
    "cm = confusion_matrix(y_test, y_pred)"
   ]
  },
  {
   "cell_type": "code",
   "execution_count": 25,
   "id": "1f44abfc",
   "metadata": {},
   "outputs": [
    {
     "data": {
      "image/png": "[encoded data removed]",
      "text/plain": [
       "<Figure size 600x600 with 1 Axes>"
      ]
     },
     "metadata": {},
     "output_type": "display_data"
    }
   ],
   "source": [
    "# Plot the confusion matrix heatmap\n",
    "plt.figure(figsize=(6, 6))\n",
    "sns.heatmap(cm, annot=True, fmt='d', cmap='Blues', cbar=False, square=True)\n",
    "plt.xlabel('Predicted')\n",
    "plt.ylabel('Actual')\n",
    "plt.title('Confusion Matrix')\n",
    "plt.xticks(np.arange(cm.shape[1]) + 0.5, labels=['Non-malicious', 'Malicious'], fontsize=12)\n",
    "plt.yticks(np.arange(cm.shape[0]) + 0.5, labels=['Non-malicious', 'Malicious'], fontsize=12)\n",
    "plt.show()"
   ]
  },
  {
   "cell_type": "code",
   "execution_count": 26,
   "id": "c178dd1a",
   "metadata": {},
   "outputs": [
    {
     "name": "stdout",
     "output_type": "stream",
     "text": [
      "Cross-validation Accuracy: 0.94 (+/- 0.00)\n"
     ]
    }
   ],
   "source": [
    "# Cross-validation\n",
    "cv_scores = cross_val_score(rand_search.best_estimator_, X, y, cv=5, scoring='accuracy')\n",
    "print(\"Cross-validation Accuracy: %0.2f (+/- %0.2f)\" % (cv_scores.mean(), cv_scores.std() * 2))"
   ]
  },
  {
   "cell_type": "code",
   "execution_count": 27,
   "id": "9dd63313",
   "metadata": {},
   "outputs": [],
   "source": [
    "from plot_metric.functions import BinaryClassification as BC"
   ]
  },
  {
   "cell_type": "code",
   "execution_count": 28,
   "id": "6aeaeb92",
   "metadata": {},
   "outputs": [
    {
     "data": {
      "image/png": "[encoded data removed]",
      "text/plain": [
       "<Figure size 800x600 with 1 Axes>"
      ]
     },
     "metadata": {},
     "output_type": "display_data"
    }
   ],
   "source": [
    "bc = BC(y_test, y_pred, labels=[\"y_test\", \"y_pred\"])\n",
    "# # plotting AOC-RUC Curve\n",
    "plt.figure(figsize=(8,6))\n",
    "bc.plot_roc_curve()\n",
    "plt.show()"
   ]
  },
  {
   "cell_type": "code",
   "execution_count": null,
   "id": "4f5d406c",
   "metadata": {},
   "outputs": [],
   "source": []
  }
 ],
 "metadata": {
  "kernelspec": {
   "display_name": "Python 3 (ipykernel)",
   "language": "python",
   "name": "python3"
  },
  "language_info": {
   "codemirror_mode": {
    "name": "ipython",
    "version": 3
   },
   "file_extension": ".py",
   "mimetype": "text/x-python",
   "name": "python",
   "nbconvert_exporter": "python",
   "pygments_lexer": "ipython3",
   "version": "3.9.13"
  }
 },
 "nbformat": 4,
 "nbformat_minor": 5
}
