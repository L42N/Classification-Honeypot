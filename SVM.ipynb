{
 "cells": [
  {
   "cell_type": "code",
   "execution_count": 1,
   "id": "c008caa7",
   "metadata": {},
   "outputs": [],
   "source": [
    "import numpy as np\n",
    "import pandas as pd\n",
    "import seaborn as sns\n",
    "import matplotlib.pyplot as plt\n",
    "import time\n",
    "from sklearn.model_selection import train_test_split, RandomizedSearchCV,cross_val_score\n",
    "from sklearn.preprocessing import StandardScaler, OneHotEncoder\n",
    "from sklearn.svm import SVC\n",
    "from sklearn.metrics import (accuracy_score, recall_score, f1_score, classification_report,\n",
    "                             confusion_matrix, roc_curve, auc, roc_auc_score, precision_score)\n",
    "from sklearn.compose import ColumnTransformer\n",
    "from sklearn.pipeline import Pipeline\n",
    "from category_encoders import TargetEncoder\n",
    "import scikitplot as skplt\n"
   ]
  },
  {
   "cell_type": "code",
   "execution_count": 2,
   "id": "9e8774a4",
   "metadata": {},
   "outputs": [],
   "source": [
    "# Load your dataset\n",
    "# Replace this with the actual path to your dataset\n",
    "data = pd.read_csv('cowrie_honeypot_ml_dataset.csv')"
   ]
  },
  {
   "cell_type": "code",
   "execution_count": 4,
   "id": "c0c681b0",
   "metadata": {},
   "outputs": [
    {
     "name": "stdout",
     "output_type": "stream",
     "text": [
      "Missing values in the dataset:\n",
      "src_ip                0\n",
      "username_auth        17\n",
      "password_auth       811\n",
      "input_cmd         17147\n",
      "timestamp_auth        0\n",
      "severity              0\n",
      "country               0\n",
      "dtype: int64\n"
     ]
    }
   ],
   "source": [
    "print(\"Missing values in the dataset:\")\n",
    "print(data.isnull().sum())"
   ]
  },
  {
   "cell_type": "code",
   "execution_count": 5,
   "id": "8e2424e5",
   "metadata": {},
   "outputs": [],
   "source": [
    "#fill empty fields with 0 \n",
    "data['input_cmd'] = data['input_cmd'].fillna('N/A')\n",
    "data['username_auth'] = data['username_auth'].fillna('N/A')\n",
    "data['password_auth'] = data['password_auth'].fillna('N/A')"
   ]
  },
  {
   "cell_type": "code",
   "execution_count": 6,
   "id": "9988726e",
   "metadata": {},
   "outputs": [
    {
     "data": {
      "text/html": [
       "<div>\n",
       "<style scoped>\n",
       "    .dataframe tbody tr th:only-of-type {\n",
       "        vertical-align: middle;\n",
       "    }\n",
       "\n",
       "    .dataframe tbody tr th {\n",
       "        vertical-align: top;\n",
       "    }\n",
       "\n",
       "    .dataframe thead th {\n",
       "        text-align: right;\n",
       "    }\n",
       "</style>\n",
       "<table border=\"1\" class=\"dataframe\">\n",
       "  <thead>\n",
       "    <tr style=\"text-align: right;\">\n",
       "      <th></th>\n",
       "      <th>src_ip</th>\n",
       "      <th>username_auth</th>\n",
       "      <th>password_auth</th>\n",
       "      <th>input_cmd</th>\n",
       "      <th>timestamp_auth</th>\n",
       "      <th>severity</th>\n",
       "      <th>country</th>\n",
       "    </tr>\n",
       "  </thead>\n",
       "  <tbody>\n",
       "    <tr>\n",
       "      <th>0</th>\n",
       "      <td>82.66.220.36</td>\n",
       "      <td>root</td>\n",
       "      <td>261081</td>\n",
       "      <td>echo -e \"\\x6F\\x6B\"</td>\n",
       "      <td>2023-04-14T18:50:39.577367Z</td>\n",
       "      <td>1</td>\n",
       "      <td>France</td>\n",
       "    </tr>\n",
       "    <tr>\n",
       "      <th>1</th>\n",
       "      <td>91.200.114.76</td>\n",
       "      <td>guest</td>\n",
       "      <td>guest</td>\n",
       "      <td>cd /dev/shm; cat .s || cp /bin/echo .s; /bin/b...</td>\n",
       "      <td>2023-04-19T00:03:31.332800Z</td>\n",
       "      <td>0</td>\n",
       "      <td>Ukraine</td>\n",
       "    </tr>\n",
       "    <tr>\n",
       "      <th>2</th>\n",
       "      <td>223.13.70.41</td>\n",
       "      <td>root</td>\n",
       "      <td>root</td>\n",
       "      <td>enable</td>\n",
       "      <td>2023-04-15T21:58:50.872869Z</td>\n",
       "      <td>1</td>\n",
       "      <td>China</td>\n",
       "    </tr>\n",
       "    <tr>\n",
       "      <th>3</th>\n",
       "      <td>82.66.220.36</td>\n",
       "      <td>root</td>\n",
       "      <td>19840906</td>\n",
       "      <td>echo -e \"\\x6F\\x6B\"</td>\n",
       "      <td>2023-04-14T19:46:38.628513Z</td>\n",
       "      <td>1</td>\n",
       "      <td>France</td>\n",
       "    </tr>\n",
       "    <tr>\n",
       "      <th>4</th>\n",
       "      <td>82.66.220.36</td>\n",
       "      <td>root</td>\n",
       "      <td>ch0c0lat</td>\n",
       "      <td>echo -e \"\\x6F\\x6B\"</td>\n",
       "      <td>2023-04-14T18:53:25.338140Z</td>\n",
       "      <td>1</td>\n",
       "      <td>France</td>\n",
       "    </tr>\n",
       "    <tr>\n",
       "      <th>...</th>\n",
       "      <td>...</td>\n",
       "      <td>...</td>\n",
       "      <td>...</td>\n",
       "      <td>...</td>\n",
       "      <td>...</td>\n",
       "      <td>...</td>\n",
       "      <td>...</td>\n",
       "    </tr>\n",
       "    <tr>\n",
       "      <th>61668</th>\n",
       "      <td>82.66.220.36</td>\n",
       "      <td>root</td>\n",
       "      <td>19850823</td>\n",
       "      <td>echo -e \"\\x6F\\x6B\"</td>\n",
       "      <td>2023-04-14T19:44:01.438913Z</td>\n",
       "      <td>1</td>\n",
       "      <td>France</td>\n",
       "    </tr>\n",
       "    <tr>\n",
       "      <th>61669</th>\n",
       "      <td>82.66.220.36</td>\n",
       "      <td>root</td>\n",
       "      <td>bubba</td>\n",
       "      <td>echo -e \"\\x6F\\x6B\"</td>\n",
       "      <td>2023-04-14T18:54:17.714332Z</td>\n",
       "      <td>1</td>\n",
       "      <td>France</td>\n",
       "    </tr>\n",
       "    <tr>\n",
       "      <th>61670</th>\n",
       "      <td>82.66.220.36</td>\n",
       "      <td>root</td>\n",
       "      <td>thing</td>\n",
       "      <td>echo -e \"\\x6F\\x6B\"</td>\n",
       "      <td>2023-04-14T19:08:38.148214Z</td>\n",
       "      <td>1</td>\n",
       "      <td>France</td>\n",
       "    </tr>\n",
       "    <tr>\n",
       "      <th>61671</th>\n",
       "      <td>180.119.198.119</td>\n",
       "      <td>admin</td>\n",
       "      <td>54321</td>\n",
       "      <td>enable</td>\n",
       "      <td>2023-04-16T16:46:20.585853Z</td>\n",
       "      <td>0</td>\n",
       "      <td>China</td>\n",
       "    </tr>\n",
       "    <tr>\n",
       "      <th>61672</th>\n",
       "      <td>192.166.244.63</td>\n",
       "      <td>rott</td>\n",
       "      <td>yes</td>\n",
       "      <td>cd ..</td>\n",
       "      <td>2023-04-07T19:57:56.162838Z</td>\n",
       "      <td>0</td>\n",
       "      <td>Hong Kong</td>\n",
       "    </tr>\n",
       "  </tbody>\n",
       "</table>\n",
       "<p>61673 rows × 7 columns</p>\n",
       "</div>"
      ],
      "text/plain": [
       "                src_ip username_auth password_auth  \\\n",
       "0         82.66.220.36          root        261081   \n",
       "1        91.200.114.76         guest         guest   \n",
       "2         223.13.70.41          root          root   \n",
       "3         82.66.220.36          root      19840906   \n",
       "4         82.66.220.36          root      ch0c0lat   \n",
       "...                ...           ...           ...   \n",
       "61668     82.66.220.36          root      19850823   \n",
       "61669     82.66.220.36          root         bubba   \n",
       "61670     82.66.220.36          root         thing   \n",
       "61671  180.119.198.119         admin         54321   \n",
       "61672   192.166.244.63          rott           yes   \n",
       "\n",
       "                                               input_cmd  \\\n",
       "0                                     echo -e \"\\x6F\\x6B\"   \n",
       "1      cd /dev/shm; cat .s || cp /bin/echo .s; /bin/b...   \n",
       "2                                                 enable   \n",
       "3                                     echo -e \"\\x6F\\x6B\"   \n",
       "4                                     echo -e \"\\x6F\\x6B\"   \n",
       "...                                                  ...   \n",
       "61668                                 echo -e \"\\x6F\\x6B\"   \n",
       "61669                                 echo -e \"\\x6F\\x6B\"   \n",
       "61670                                 echo -e \"\\x6F\\x6B\"   \n",
       "61671                                             enable   \n",
       "61672                                              cd ..   \n",
       "\n",
       "                    timestamp_auth  severity    country  \n",
       "0      2023-04-14T18:50:39.577367Z         1     France  \n",
       "1      2023-04-19T00:03:31.332800Z         0    Ukraine  \n",
       "2      2023-04-15T21:58:50.872869Z         1      China  \n",
       "3      2023-04-14T19:46:38.628513Z         1     France  \n",
       "4      2023-04-14T18:53:25.338140Z         1     France  \n",
       "...                            ...       ...        ...  \n",
       "61668  2023-04-14T19:44:01.438913Z         1     France  \n",
       "61669  2023-04-14T18:54:17.714332Z         1     France  \n",
       "61670  2023-04-14T19:08:38.148214Z         1     France  \n",
       "61671  2023-04-16T16:46:20.585853Z         0      China  \n",
       "61672  2023-04-07T19:57:56.162838Z         0  Hong Kong  \n",
       "\n",
       "[61673 rows x 7 columns]"
      ]
     },
     "execution_count": 6,
     "metadata": {},
     "output_type": "execute_result"
    }
   ],
   "source": [
    "data"
   ]
  },
  {
   "cell_type": "code",
   "execution_count": 7,
   "id": "f5d79b6f",
   "metadata": {},
   "outputs": [
    {
     "name": "stdout",
     "output_type": "stream",
     "text": [
      "Infinite values in the dataset:\n",
      "src_ip            0\n",
      "username_auth     0\n",
      "password_auth     0\n",
      "input_cmd         0\n",
      "timestamp_auth    0\n",
      "severity          0\n",
      "country           0\n",
      "dtype: int64\n"
     ]
    }
   ],
   "source": [
    "# Check for infinite values in the dataset\n",
    "print(\"Infinite values in the dataset:\")\n",
    "print(data.applymap(lambda x: x in [np.inf, -np.inf]).sum())"
   ]
  },
  {
   "cell_type": "code",
   "execution_count": 8,
   "id": "4b4e15ba",
   "metadata": {},
   "outputs": [],
   "source": [
    "# Define the features and target variable\n",
    "X = data[['input_cmd','country', 'username_auth', 'password_auth']]\n",
    "\n",
    "y = data['severity'] "
   ]
  },
  {
   "cell_type": "code",
   "execution_count": 9,
   "id": "3ea9fc4d",
   "metadata": {},
   "outputs": [],
   "source": [
    "# Split the data into training and testing sets\n",
    "X_train, X_test, y_train, y_test = train_test_split(X, y, test_size=0.25, random_state=42)"
   ]
  },
  {
   "cell_type": "code",
   "execution_count": 10,
   "id": "5bbef401",
   "metadata": {},
   "outputs": [],
   "source": [
    "# Define the column transformer for preprocessing\n",
    "preprocessor = ColumnTransformer(transformers=[\n",
    "    ('input_cmd', TargetEncoder(), ['input_cmd']),\n",
    "    ('country', OneHotEncoder(handle_unknown='ignore'), ['country']),\n",
    "    ('username_auth', TargetEncoder(), ['username_auth']),\n",
    "    ('password_auth', TargetEncoder(), ['password_auth'])\n",
    "])"
   ]
  },
  {
   "cell_type": "code",
   "execution_count": 11,
   "id": "13d9ca24",
   "metadata": {},
   "outputs": [],
   "source": [
    "# Create the SVM model\n",
    "svm_model = SVC(probability=True)"
   ]
  },
  {
   "cell_type": "code",
   "execution_count": 12,
   "id": "93eea898",
   "metadata": {},
   "outputs": [],
   "source": [
    "# Create a pipeline with the preprocessor and the SVM model\n",
    "pipeline = Pipeline(steps=[('preprocessor', preprocessor), ('classifier', svm_model)])"
   ]
  },
  {
   "cell_type": "code",
   "execution_count": 13,
   "id": "d3930fb7",
   "metadata": {},
   "outputs": [],
   "source": [
    "param_dist = {\n",
    "    'classifier__kernel': ['linear', 'rbf', 'poly', 'sigmoid'],\n",
    "    'classifier__C': np.logspace(-3, 3, 7),\n",
    "    'classifier__gamma': ['scale', 'auto', 0.1, 1, 10]\n",
    "}"
   ]
  },
  {
   "cell_type": "code",
   "execution_count": 14,
   "id": "de5a89ed",
   "metadata": {},
   "outputs": [],
   "source": [
    "# Create the RandomSearchCV object\n",
    "rand_search = RandomizedSearchCV(pipeline, param_dist, scoring='accuracy', cv=5, verbose=1, n_jobs=-1, n_iter=20)"
   ]
  },
  {
   "cell_type": "code",
   "execution_count": 15,
   "id": "633ce0f1",
   "metadata": {},
   "outputs": [],
   "source": [
    "#Start Training Timer\n",
    "start_time = time.time()\n"
   ]
  },
  {
   "cell_type": "code",
   "execution_count": 16,
   "id": "031a544f",
   "metadata": {
    "scrolled": true
   },
   "outputs": [
    {
     "name": "stdout",
     "output_type": "stream",
     "text": [
      "Fitting 5 folds for each of 20 candidates, totalling 100 fits\n"
     ]
    },
    {
     "data": {
      "text/html": [
       "<style>#sk-container-id-1 {color: black;background-color: white;}#sk-container-id-1 pre{padding: 0;}#sk-container-id-1 div.sk-toggleable {background-color: white;}#sk-container-id-1 label.sk-toggleable__label {cursor: pointer;display: block;width: 100%;margin-bottom: 0;padding: 0.3em;box-sizing: border-box;text-align: center;}#sk-container-id-1 label.sk-toggleable__label-arrow:before {content: \"▸\";float: left;margin-right: 0.25em;color: #696969;}#sk-container-id-1 label.sk-toggleable__label-arrow:hover:before {color: black;}#sk-container-id-1 div.sk-estimator:hover label.sk-toggleable__label-arrow:before {color: black;}#sk-container-id-1 div.sk-toggleable__content {max-height: 0;max-width: 0;overflow: hidden;text-align: left;background-color: #f0f8ff;}#sk-container-id-1 div.sk-toggleable__content pre {margin: 0.2em;color: black;border-radius: 0.25em;background-color: #f0f8ff;}#sk-container-id-1 input.sk-toggleable__control:checked~div.sk-toggleable__content {max-height: 200px;max-width: 100%;overflow: auto;}#sk-container-id-1 input.sk-toggleable__control:checked~label.sk-toggleable__label-arrow:before {content: \"▾\";}#sk-container-id-1 div.sk-estimator input.sk-toggleable__control:checked~label.sk-toggleable__label {background-color: #d4ebff;}#sk-container-id-1 div.sk-label input.sk-toggleable__control:checked~label.sk-toggleable__label {background-color: #d4ebff;}#sk-container-id-1 input.sk-hidden--visually {border: 0;clip: rect(1px 1px 1px 1px);clip: rect(1px, 1px, 1px, 1px);height: 1px;margin: -1px;overflow: hidden;padding: 0;position: absolute;width: 1px;}#sk-container-id-1 div.sk-estimator {font-family: monospace;background-color: #f0f8ff;border: 1px dotted black;border-radius: 0.25em;box-sizing: border-box;margin-bottom: 0.5em;}#sk-container-id-1 div.sk-estimator:hover {background-color: #d4ebff;}#sk-container-id-1 div.sk-parallel-item::after {content: \"\";width: 100%;border-bottom: 1px solid gray;flex-grow: 1;}#sk-container-id-1 div.sk-label:hover label.sk-toggleable__label {background-color: #d4ebff;}#sk-container-id-1 div.sk-serial::before {content: \"\";position: absolute;border-left: 1px solid gray;box-sizing: border-box;top: 0;bottom: 0;left: 50%;z-index: 0;}#sk-container-id-1 div.sk-serial {display: flex;flex-direction: column;align-items: center;background-color: white;padding-right: 0.2em;padding-left: 0.2em;position: relative;}#sk-container-id-1 div.sk-item {position: relative;z-index: 1;}#sk-container-id-1 div.sk-parallel {display: flex;align-items: stretch;justify-content: center;background-color: white;position: relative;}#sk-container-id-1 div.sk-item::before, #sk-container-id-1 div.sk-parallel-item::before {content: \"\";position: absolute;border-left: 1px solid gray;box-sizing: border-box;top: 0;bottom: 0;left: 50%;z-index: -1;}#sk-container-id-1 div.sk-parallel-item {display: flex;flex-direction: column;z-index: 1;position: relative;background-color: white;}#sk-container-id-1 div.sk-parallel-item:first-child::after {align-self: flex-end;width: 50%;}#sk-container-id-1 div.sk-parallel-item:last-child::after {align-self: flex-start;width: 50%;}#sk-container-id-1 div.sk-parallel-item:only-child::after {width: 0;}#sk-container-id-1 div.sk-dashed-wrapped {border: 1px dashed gray;margin: 0 0.4em 0.5em 0.4em;box-sizing: border-box;padding-bottom: 0.4em;background-color: white;}#sk-container-id-1 div.sk-label label {font-family: monospace;font-weight: bold;display: inline-block;line-height: 1.2em;}#sk-container-id-1 div.sk-label-container {text-align: center;}#sk-container-id-1 div.sk-container {/* jupyter's `normalize.less` sets `[hidden] { display: none; }` but bootstrap.min.css set `[hidden] { display: none !important; }` so we also need the `!important` here to be able to override the default hidden behavior on the sphinx rendered scikit-learn.org. See: https://github.com/scikit-learn/scikit-learn/issues/21755 */display: inline-block !important;position: relative;}#sk-container-id-1 div.sk-text-repr-fallback {display: none;}</style><div id=\"sk-container-id-1\" class=\"sk-top-container\"><div class=\"sk-text-repr-fallback\"><pre>RandomizedSearchCV(cv=5,\n",
       "                   estimator=Pipeline(steps=[(&#x27;preprocessor&#x27;,\n",
       "                                              ColumnTransformer(transformers=[(&#x27;input_cmd&#x27;,\n",
       "                                                                               TargetEncoder(),\n",
       "                                                                               [&#x27;input_cmd&#x27;]),\n",
       "                                                                              (&#x27;country&#x27;,\n",
       "                                                                               OneHotEncoder(handle_unknown=&#x27;ignore&#x27;),\n",
       "                                                                               [&#x27;country&#x27;]),\n",
       "                                                                              (&#x27;username_auth&#x27;,\n",
       "                                                                               TargetEncoder(),\n",
       "                                                                               [&#x27;username_auth&#x27;]),\n",
       "                                                                              (&#x27;password_auth&#x27;,\n",
       "                                                                               TargetEncoder(),\n",
       "                                                                               [&#x27;password_auth&#x27;])])),\n",
       "                                             (&#x27;classifier&#x27;,\n",
       "                                              SVC(probability=True))]),\n",
       "                   n_iter=20, n_jobs=-1,\n",
       "                   param_distributions={&#x27;classifier__C&#x27;: array([1.e-03, 1.e-02, 1.e-01, 1.e+00, 1.e+01, 1.e+02, 1.e+03]),\n",
       "                                        &#x27;classifier__gamma&#x27;: [&#x27;scale&#x27;, &#x27;auto&#x27;,\n",
       "                                                              0.1, 1, 10],\n",
       "                                        &#x27;classifier__kernel&#x27;: [&#x27;linear&#x27;, &#x27;rbf&#x27;,\n",
       "                                                               &#x27;poly&#x27;,\n",
       "                                                               &#x27;sigmoid&#x27;]},\n",
       "                   scoring=&#x27;accuracy&#x27;, verbose=1)</pre><b>In a Jupyter environment, please rerun this cell to show the HTML representation or trust the notebook. <br />On GitHub, the HTML representation is unable to render, please try loading this page with nbviewer.org.</b></div><div class=\"sk-container\" hidden><div class=\"sk-item sk-dashed-wrapped\"><div class=\"sk-label-container\"><div class=\"sk-label sk-toggleable\"><input class=\"sk-toggleable__control sk-hidden--visually\" id=\"sk-estimator-id-1\" type=\"checkbox\" ><label for=\"sk-estimator-id-1\" class=\"sk-toggleable__label sk-toggleable__label-arrow\">RandomizedSearchCV</label><div class=\"sk-toggleable__content\"><pre>RandomizedSearchCV(cv=5,\n",
       "                   estimator=Pipeline(steps=[(&#x27;preprocessor&#x27;,\n",
       "                                              ColumnTransformer(transformers=[(&#x27;input_cmd&#x27;,\n",
       "                                                                               TargetEncoder(),\n",
       "                                                                               [&#x27;input_cmd&#x27;]),\n",
       "                                                                              (&#x27;country&#x27;,\n",
       "                                                                               OneHotEncoder(handle_unknown=&#x27;ignore&#x27;),\n",
       "                                                                               [&#x27;country&#x27;]),\n",
       "                                                                              (&#x27;username_auth&#x27;,\n",
       "                                                                               TargetEncoder(),\n",
       "                                                                               [&#x27;username_auth&#x27;]),\n",
       "                                                                              (&#x27;password_auth&#x27;,\n",
       "                                                                               TargetEncoder(),\n",
       "                                                                               [&#x27;password_auth&#x27;])])),\n",
       "                                             (&#x27;classifier&#x27;,\n",
       "                                              SVC(probability=True))]),\n",
       "                   n_iter=20, n_jobs=-1,\n",
       "                   param_distributions={&#x27;classifier__C&#x27;: array([1.e-03, 1.e-02, 1.e-01, 1.e+00, 1.e+01, 1.e+02, 1.e+03]),\n",
       "                                        &#x27;classifier__gamma&#x27;: [&#x27;scale&#x27;, &#x27;auto&#x27;,\n",
       "                                                              0.1, 1, 10],\n",
       "                                        &#x27;classifier__kernel&#x27;: [&#x27;linear&#x27;, &#x27;rbf&#x27;,\n",
       "                                                               &#x27;poly&#x27;,\n",
       "                                                               &#x27;sigmoid&#x27;]},\n",
       "                   scoring=&#x27;accuracy&#x27;, verbose=1)</pre></div></div></div><div class=\"sk-parallel\"><div class=\"sk-parallel-item\"><div class=\"sk-item\"><div class=\"sk-label-container\"><div class=\"sk-label sk-toggleable\"><input class=\"sk-toggleable__control sk-hidden--visually\" id=\"sk-estimator-id-2\" type=\"checkbox\" ><label for=\"sk-estimator-id-2\" class=\"sk-toggleable__label sk-toggleable__label-arrow\">estimator: Pipeline</label><div class=\"sk-toggleable__content\"><pre>Pipeline(steps=[(&#x27;preprocessor&#x27;,\n",
       "                 ColumnTransformer(transformers=[(&#x27;input_cmd&#x27;, TargetEncoder(),\n",
       "                                                  [&#x27;input_cmd&#x27;]),\n",
       "                                                 (&#x27;country&#x27;,\n",
       "                                                  OneHotEncoder(handle_unknown=&#x27;ignore&#x27;),\n",
       "                                                  [&#x27;country&#x27;]),\n",
       "                                                 (&#x27;username_auth&#x27;,\n",
       "                                                  TargetEncoder(),\n",
       "                                                  [&#x27;username_auth&#x27;]),\n",
       "                                                 (&#x27;password_auth&#x27;,\n",
       "                                                  TargetEncoder(),\n",
       "                                                  [&#x27;password_auth&#x27;])])),\n",
       "                (&#x27;classifier&#x27;, SVC(probability=True))])</pre></div></div></div><div class=\"sk-serial\"><div class=\"sk-item\"><div class=\"sk-serial\"><div class=\"sk-item sk-dashed-wrapped\"><div class=\"sk-label-container\"><div class=\"sk-label sk-toggleable\"><input class=\"sk-toggleable__control sk-hidden--visually\" id=\"sk-estimator-id-3\" type=\"checkbox\" ><label for=\"sk-estimator-id-3\" class=\"sk-toggleable__label sk-toggleable__label-arrow\">preprocessor: ColumnTransformer</label><div class=\"sk-toggleable__content\"><pre>ColumnTransformer(transformers=[(&#x27;input_cmd&#x27;, TargetEncoder(), [&#x27;input_cmd&#x27;]),\n",
       "                                (&#x27;country&#x27;,\n",
       "                                 OneHotEncoder(handle_unknown=&#x27;ignore&#x27;),\n",
       "                                 [&#x27;country&#x27;]),\n",
       "                                (&#x27;username_auth&#x27;, TargetEncoder(),\n",
       "                                 [&#x27;username_auth&#x27;]),\n",
       "                                (&#x27;password_auth&#x27;, TargetEncoder(),\n",
       "                                 [&#x27;password_auth&#x27;])])</pre></div></div></div><div class=\"sk-parallel\"><div class=\"sk-parallel-item\"><div class=\"sk-item\"><div class=\"sk-label-container\"><div class=\"sk-label sk-toggleable\"><input class=\"sk-toggleable__control sk-hidden--visually\" id=\"sk-estimator-id-4\" type=\"checkbox\" ><label for=\"sk-estimator-id-4\" class=\"sk-toggleable__label sk-toggleable__label-arrow\">input_cmd</label><div class=\"sk-toggleable__content\"><pre>[&#x27;input_cmd&#x27;]</pre></div></div></div><div class=\"sk-serial\"><div class=\"sk-item\"><div class=\"sk-estimator sk-toggleable\"><input class=\"sk-toggleable__control sk-hidden--visually\" id=\"sk-estimator-id-5\" type=\"checkbox\" ><label for=\"sk-estimator-id-5\" class=\"sk-toggleable__label sk-toggleable__label-arrow\">TargetEncoder</label><div class=\"sk-toggleable__content\"><pre>TargetEncoder()</pre></div></div></div></div></div></div><div class=\"sk-parallel-item\"><div class=\"sk-item\"><div class=\"sk-label-container\"><div class=\"sk-label sk-toggleable\"><input class=\"sk-toggleable__control sk-hidden--visually\" id=\"sk-estimator-id-6\" type=\"checkbox\" ><label for=\"sk-estimator-id-6\" class=\"sk-toggleable__label sk-toggleable__label-arrow\">country</label><div class=\"sk-toggleable__content\"><pre>[&#x27;country&#x27;]</pre></div></div></div><div class=\"sk-serial\"><div class=\"sk-item\"><div class=\"sk-estimator sk-toggleable\"><input class=\"sk-toggleable__control sk-hidden--visually\" id=\"sk-estimator-id-7\" type=\"checkbox\" ><label for=\"sk-estimator-id-7\" class=\"sk-toggleable__label sk-toggleable__label-arrow\">OneHotEncoder</label><div class=\"sk-toggleable__content\"><pre>OneHotEncoder(handle_unknown=&#x27;ignore&#x27;)</pre></div></div></div></div></div></div><div class=\"sk-parallel-item\"><div class=\"sk-item\"><div class=\"sk-label-container\"><div class=\"sk-label sk-toggleable\"><input class=\"sk-toggleable__control sk-hidden--visually\" id=\"sk-estimator-id-8\" type=\"checkbox\" ><label for=\"sk-estimator-id-8\" class=\"sk-toggleable__label sk-toggleable__label-arrow\">username_auth</label><div class=\"sk-toggleable__content\"><pre>[&#x27;username_auth&#x27;]</pre></div></div></div><div class=\"sk-serial\"><div class=\"sk-item\"><div class=\"sk-estimator sk-toggleable\"><input class=\"sk-toggleable__control sk-hidden--visually\" id=\"sk-estimator-id-9\" type=\"checkbox\" ><label for=\"sk-estimator-id-9\" class=\"sk-toggleable__label sk-toggleable__label-arrow\">TargetEncoder</label><div class=\"sk-toggleable__content\"><pre>TargetEncoder()</pre></div></div></div></div></div></div><div class=\"sk-parallel-item\"><div class=\"sk-item\"><div class=\"sk-label-container\"><div class=\"sk-label sk-toggleable\"><input class=\"sk-toggleable__control sk-hidden--visually\" id=\"sk-estimator-id-10\" type=\"checkbox\" ><label for=\"sk-estimator-id-10\" class=\"sk-toggleable__label sk-toggleable__label-arrow\">password_auth</label><div class=\"sk-toggleable__content\"><pre>[&#x27;password_auth&#x27;]</pre></div></div></div><div class=\"sk-serial\"><div class=\"sk-item\"><div class=\"sk-estimator sk-toggleable\"><input class=\"sk-toggleable__control sk-hidden--visually\" id=\"sk-estimator-id-11\" type=\"checkbox\" ><label for=\"sk-estimator-id-11\" class=\"sk-toggleable__label sk-toggleable__label-arrow\">TargetEncoder</label><div class=\"sk-toggleable__content\"><pre>TargetEncoder()</pre></div></div></div></div></div></div></div></div><div class=\"sk-item\"><div class=\"sk-estimator sk-toggleable\"><input class=\"sk-toggleable__control sk-hidden--visually\" id=\"sk-estimator-id-12\" type=\"checkbox\" ><label for=\"sk-estimator-id-12\" class=\"sk-toggleable__label sk-toggleable__label-arrow\">SVC</label><div class=\"sk-toggleable__content\"><pre>SVC(probability=True)</pre></div></div></div></div></div></div></div></div></div></div></div></div>"
      ],
      "text/plain": [
       "RandomizedSearchCV(cv=5,\n",
       "                   estimator=Pipeline(steps=[('preprocessor',\n",
       "                                              ColumnTransformer(transformers=[('input_cmd',\n",
       "                                                                               TargetEncoder(),\n",
       "                                                                               ['input_cmd']),\n",
       "                                                                              ('country',\n",
       "                                                                               OneHotEncoder(handle_unknown='ignore'),\n",
       "                                                                               ['country']),\n",
       "                                                                              ('username_auth',\n",
       "                                                                               TargetEncoder(),\n",
       "                                                                               ['username_auth']),\n",
       "                                                                              ('password_auth',\n",
       "                                                                               TargetEncoder(),\n",
       "                                                                               ['password_auth'])])),\n",
       "                                             ('classifier',\n",
       "                                              SVC(probability=True))]),\n",
       "                   n_iter=20, n_jobs=-1,\n",
       "                   param_distributions={'classifier__C': array([1.e-03, 1.e-02, 1.e-01, 1.e+00, 1.e+01, 1.e+02, 1.e+03]),\n",
       "                                        'classifier__gamma': ['scale', 'auto',\n",
       "                                                              0.1, 1, 10],\n",
       "                                        'classifier__kernel': ['linear', 'rbf',\n",
       "                                                               'poly',\n",
       "                                                               'sigmoid']},\n",
       "                   scoring='accuracy', verbose=1)"
      ]
     },
     "execution_count": 16,
     "metadata": {},
     "output_type": "execute_result"
    }
   ],
   "source": [
    "# Train the SVM model using the training data and find the best hyperparameters\n",
    "rand_search.fit(X_train, y_train)"
   ]
  },
  {
   "cell_type": "code",
   "execution_count": 17,
   "id": "83f2d54b",
   "metadata": {},
   "outputs": [
    {
     "name": "stdout",
     "output_type": "stream",
     "text": [
      "Best Hyperparameters:\n",
      "{'classifier__kernel': 'rbf', 'classifier__gamma': 1, 'classifier__C': 10.0}\n"
     ]
    }
   ],
   "source": [
    "# Print the best hyperparameters found\n",
    "print(\"Best Hyperparameters:\")\n",
    "print(rand_search.best_params_)"
   ]
  },
  {
   "cell_type": "code",
   "execution_count": 18,
   "id": "bcd6efe6",
   "metadata": {},
   "outputs": [],
   "source": [
    "#End Training Timer\n",
    "end_time = time.time()\n",
    "elapsed_time = end_time - start_time"
   ]
  },
  {
   "cell_type": "code",
   "execution_count": 19,
   "id": "52bd0a26",
   "metadata": {},
   "outputs": [],
   "source": [
    "#Format Training time in Hours \n",
    "hours, rem = divmod(elapsed_time, 3600)\n",
    "minutes, seconds = divmod(rem, 60)"
   ]
  },
  {
   "cell_type": "code",
   "execution_count": 20,
   "id": "f9eb7ebd",
   "metadata": {},
   "outputs": [
    {
     "name": "stdout",
     "output_type": "stream",
     "text": [
      "Time taken for training: 02 hours 20 minutes 32.72 seconds\n"
     ]
    }
   ],
   "source": [
    "#Print Time Taken for Training \n",
    "print(\"Time taken for training: {:0>2} hours {:0>2} minutes {:.2f} seconds\".format(int(hours), int(minutes), seconds))\n"
   ]
  },
  {
   "cell_type": "code",
   "execution_count": 21,
   "id": "b957aaae",
   "metadata": {},
   "outputs": [],
   "source": [
    "# Predict the test data using the best model\n",
    "y_pred = rand_search.predict(X_test)"
   ]
  },
  {
   "cell_type": "code",
   "execution_count": 22,
   "id": "364f2e8c",
   "metadata": {},
   "outputs": [],
   "source": [
    "# Evaluate the model\n",
    "accuracy = accuracy_score(y_test, y_pred)\n",
    "recall = recall_score(y_test, y_pred, average='weighted')\n",
    "f1 = f1_score(y_test, y_pred, average='weighted')\n",
    "precision = precision_score(y_test, y_pred, average='weighted')\n"
   ]
  },
  {
   "cell_type": "code",
   "execution_count": 23,
   "id": "1932c691",
   "metadata": {},
   "outputs": [
    {
     "name": "stdout",
     "output_type": "stream",
     "text": [
      "[[9441  126]\n",
      " [ 707 5145]]\n",
      "              precision    recall  f1-score   support\n",
      "\n",
      "           0       0.93      0.99      0.96      9567\n",
      "           1       0.98      0.88      0.93      5852\n",
      "\n",
      "    accuracy                           0.95     15419\n",
      "   macro avg       0.95      0.93      0.94     15419\n",
      "weighted avg       0.95      0.95      0.95     15419\n",
      "\n",
      "Accuracy: 0.9459757442116868\n",
      "F1 Score: 0.9251101321585903\n",
      "Recall: 0.8791866028708134\n",
      "Precision: 0.9760956175298805\n"
     ]
    }
   ],
   "source": [
    "print(confusion_matrix(y_test, y_pred))\n",
    "print(classification_report(y_test, y_pred))\n",
    "print(\"Accuracy:\", accuracy_score(y_test, y_pred))\n",
    "print(\"F1 Score:\", f1_score(y_test, y_pred))\n",
    "print(\"Recall:\", recall_score(y_test, y_pred))\n",
    "print(\"Precision:\", precision_score(y_test, y_pred))"
   ]
  },
  {
   "cell_type": "code",
   "execution_count": 24,
   "id": "9125d961",
   "metadata": {},
   "outputs": [],
   "source": [
    "# Confusion matrix\n",
    "cm = confusion_matrix(y_test, y_pred)"
   ]
  },
  {
   "cell_type": "code",
   "execution_count": 25,
   "id": "2e888129",
   "metadata": {},
   "outputs": [
    {
     "data": {
      "image/png": "[encoded data removed]",
      "text/plain": [
       "<Figure size 600x600 with 1 Axes>"
      ]
     },
     "metadata": {},
     "output_type": "display_data"
    }
   ],
   "source": [
    "# Plot the confusion matrix heatmap\n",
    "plt.figure(figsize=(6, 6))\n",
    "sns.heatmap(cm, annot=True, fmt='d', cmap='Blues', cbar=False, square=True)\n",
    "plt.xlabel('Predicted')\n",
    "plt.ylabel('Actual')\n",
    "plt.title('Confusion Matrix')\n",
    "plt.xticks(np.arange(cm.shape[1]) + 0.5, labels=['Non-malicious', 'Malicious'], fontsize=12)\n",
    "plt.yticks(np.arange(cm.shape[0]) + 0.5, labels=['Non-malicious', 'Malicious'], fontsize=12)\n",
    "plt.show()"
   ]
  },
  {
   "cell_type": "code",
   "execution_count": 26,
   "id": "3f694b18",
   "metadata": {},
   "outputs": [],
   "source": [
    "from plot_metric.functions import BinaryClassification as BC"
   ]
  },
  {
   "cell_type": "code",
   "execution_count": 27,
   "id": "751762ac",
   "metadata": {},
   "outputs": [
    {
     "data": {
      "image/png": "[encoded data removed]",
      "text/plain": [
       "<Figure size 800x600 with 1 Axes>"
      ]
     },
     "metadata": {},
     "output_type": "display_data"
    }
   ],
   "source": [
    "bc = BC(y_test, y_pred, labels=[\"y_test\", \"y_pred\"])\n",
    "# # plotting AOC-RUC Curve\n",
    "plt.figure(figsize=(8,6))\n",
    "bc.plot_roc_curve()\n",
    "plt.show()"
   ]
  },
  {
   "cell_type": "code",
   "execution_count": 28,
   "id": "5a4c0d09",
   "metadata": {},
   "outputs": [],
   "source": [
    "from sklearn.model_selection import cross_val_score"
   ]
  },
  {
   "cell_type": "code",
   "execution_count": 29,
   "id": "9116f512",
   "metadata": {},
   "outputs": [
    {
     "name": "stdout",
     "output_type": "stream",
     "text": [
      "Cross-validation Accuracy: 0.95 (+/- 0.00)\n"
     ]
    }
   ],
   "source": [
    "# Cross-validation\n",
    "cv_scores = cross_val_score(rand_search.best_estimator_, X, y, cv=5, scoring='accuracy')\n",
    "print(\"Cross-validation Accuracy: %0.2f (+/- %0.2f)\" % (cv_scores.mean(), cv_scores.std() * 2))"
   ]
  },
  {
   "cell_type": "code",
   "execution_count": null,
   "id": "29ec65f1",
   "metadata": {},
   "outputs": [],
   "source": []
  }
 ],
 "metadata": {
  "kernelspec": {
   "display_name": "Python 3 (ipykernel)",
   "language": "python",
   "name": "python3"
  },
  "language_info": {
   "codemirror_mode": {
    "name": "ipython",
    "version": 3
   },
   "file_extension": ".py",
   "mimetype": "text/x-python",
   "name": "python",
   "nbconvert_exporter": "python",
   "pygments_lexer": "ipython3",
   "version": "3.9.13"
  }
 },
 "nbformat": 4,
 "nbformat_minor": 5
}
