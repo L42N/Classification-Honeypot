{
 "cells": [
  {
   "cell_type": "code",
   "execution_count": 5,
   "id": "3da112f4",
   "metadata": {},
   "outputs": [],
   "source": [
    "import json\n",
    "from collections import Counter\n",
    "import pandas as pd\n"
   ]
  },
  {
   "cell_type": "code",
   "execution_count": 6,
   "id": "8a4c2b6d",
   "metadata": {},
   "outputs": [],
   "source": [
    "def parse_cowrie_log(file_path):\n",
    "    with open(file_path, 'r', errors='ignore') as file:\n",
    "        clean_file = file.read().replace('\\0', '')\n",
    "        reader = csv.DictReader(clean_file.splitlines())\n",
    "        log_data = [row for row in reader if 'username_auth' in row and 'input_cmd' in row and 'password_auth' in row]\n",
    "\n",
    "    return log_data\n",
    "\n",
    "def get_top_combinations(log_data, keys, n=10):\n",
    "    combinations = [tuple(entry[key] for key in keys) for entry in log_data]\n",
    "    counter = Counter(combinations)\n",
    "    return counter.most_common(n)\n",
    "\n",
    "def get_top_items(log_data, item_key, n=10):\n",
    "    items = [entry[item_key] for entry in log_data]\n",
    "    counter = Counter(items)\n",
    "    return counter.most_common(n)\n",
    "\n",
    "def display_results(results, column_names):\n",
    "    df = pd.DataFrame(results, columns=column_names)\n",
    "    print(df)\n",
    "\n"
   ]
  },
  {
   "cell_type": "code",
   "execution_count": 7,
   "id": "3af2a496",
   "metadata": {},
   "outputs": [
    {
     "name": "stdout",
     "output_type": "stream",
     "text": [
      "Top  Usernames & Password Combo:\n",
      "        Username-Password  Count\n",
      "0            (root, root)   1008\n",
      "1          (admin, admin)    806\n",
      "2         (admin, 123456)    722\n",
      "3           (admin, 1234)    717\n",
      "4         (root, aquario)    683\n",
      "5           (root, admin)    622\n",
      "6        (root, password)    495\n",
      "7           (root, ttnet)    401\n",
      "8           (root, ivdev)    395\n",
      "9  (supervisor, zyad1234)    393\n",
      "Top  Usernames:\n",
      "     Username  Count\n",
      "0        root  42568\n",
      "1       admin   7810\n",
      "2     aaliyah   3013\n",
      "3       guest    941\n",
      "4  supervisor    720\n",
      "5        user    396\n",
      "6      mother    355\n",
      "7     service    350\n",
      "8     support    348\n",
      "9      666666    346\n",
      "Top Passwords:\n",
      "       Password  Count\n",
      "0         admin   1750\n",
      "1          1234   1457\n",
      "2        123456   1258\n",
      "3      password   1140\n",
      "4          root   1065\n",
      "5         12345    978\n",
      "6                  811\n",
      "7       aquario    683\n",
      "8  7ujMko0admin    679\n",
      "9          user    628\n",
      "\n",
      "Top  Commands:\n",
      "                                             Command  Count\n",
      "0                                 echo -e \"\\x6F\\x6B\"  17559\n",
      "1                                                     17147\n",
      "2                                                 sh   2654\n",
      "3                                              shell   2654\n",
      "4                                             enable   2652\n",
      "5                                             system   2652\n",
      "6                                        rm .s; exit   2564\n",
      "7  dd bs=52 count=1 if=.s || cat .s || while read...   2564\n",
      "8                                           uname -a    185\n",
      "9                               uname -s -v -n -r -m    121\n"
     ]
    }
   ],
   "source": [
    "if __name__ == \"__main__\":\n",
    "    file_path = 'cowrie_honeypot_ml_dataset.csv'  # Replace with your log file path\n",
    "    log_data = parse_cowrie_log(file_path)\n",
    "    \n",
    "    top_usernames = get_top_items(log_data, 'username_auth')\n",
    "    top_passwords = get_top_items(log_data, 'password_auth')\n",
    "    top_commands = get_top_items(log_data, 'input_cmd')\n",
    "    \n",
    "    top_combinations = get_top_combinations(log_data, ['username_auth', 'password_auth'])\n",
    "    \n",
    "    print(\"Top  Usernames & Password Combo:\")\n",
    "    display_results(top_combinations, ['Username-Password', 'Count'])\n",
    "\n",
    "    print(\"Top  Usernames:\")\n",
    "    display_results(top_usernames, ['Username', 'Count'])\n",
    "    \n",
    "    print(\"Top Passwords:\")\n",
    "    display_results(top_passwords, ['Password', 'Count'])\n",
    "    \n",
    "    print(\"\\nTop  Commands:\")\n",
    "    display_results(top_commands, ['Command', 'Count'])"
   ]
  },
  {
   "cell_type": "code",
   "execution_count": null,
   "id": "389081da",
   "metadata": {},
   "outputs": [],
   "source": []
  }
 ],
 "metadata": {
  "kernelspec": {
   "display_name": "Python 3 (ipykernel)",
   "language": "python",
   "name": "python3"
  },
  "language_info": {
   "codemirror_mode": {
    "name": "ipython",
    "version": 3
   },
   "file_extension": ".py",
   "mimetype": "text/x-python",
   "name": "python",
   "nbconvert_exporter": "python",
   "pygments_lexer": "ipython3",
   "version": "3.9.13"
  }
 },
 "nbformat": 4,
 "nbformat_minor": 5
}
